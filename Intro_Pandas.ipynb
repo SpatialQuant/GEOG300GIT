{
 "cells": [
  {
   "cell_type": "code",
   "execution_count": null,
   "id": "welcome-torture",
   "metadata": {},
   "outputs": [],
   "source": [
    "city = ['Burlington','Portland','Concord','Boston','Worcester','Providence','Hartford']\n",
    "state = ['VT','ME','NH','MA','MA','CT','RI']\n",
    "lat = [44.4683,43.6497,42.2015,42.3606,42.2706,41.9375,41.7225]\n",
    "lon = [-73.1499,-70.3002,-71.5002,-71.0097,-71.8731,-72.6819,-71.4325]\n",
    "snow = [81.2,61.9,61.4,43.8,64.1,40.5,33.8]\n",
    "dir = ['N','N','N','S','S','S','S']"
   ]
  }
 ],
 "metadata": {
  "kernelspec": {
   "display_name": "Python 3",
   "language": "python",
   "name": "python3"
  },
  "language_info": {
   "codemirror_mode": {
    "name": "ipython",
    "version": 3
   },
   "file_extension": ".py",
   "mimetype": "text/x-python",
   "name": "python",
   "nbconvert_exporter": "python",
   "pygments_lexer": "ipython3",
   "version": "3.7.9"
  }
 },
 "nbformat": 4,
 "nbformat_minor": 5
}
